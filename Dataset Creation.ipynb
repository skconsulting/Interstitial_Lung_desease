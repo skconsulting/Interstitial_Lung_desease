{
 "cells": [
  {
   "cell_type": "code",
   "execution_count": 1,
   "metadata": {
    "collapsed": false
   },
   "outputs": [
    {
     "name": "stderr",
     "output_type": "stream",
     "text": [
      "Using Theano backend.\n"
     ]
    }
   ],
   "source": [
    "import os\n",
    "from scipy import misc\n",
    "import numpy as np\n",
    "from matplotlib import pyplot as plt\n",
    "from keras.utils.data_utils import get_file\n",
    "from six.moves import cPickle\n",
    "import sys\n",
    "from keras.utils import np_utils \n",
    "import cPickle as pickle\n",
    "from sklearn.cross_validation import train_test_split\n",
    "import random"
   ]
  },
  {
   "cell_type": "code",
   "execution_count": 4,
   "metadata": {
    "collapsed": false
   },
   "outputs": [
    {
     "name": "stdout",
     "output_type": "stream",
     "text": [
      "['consolidation', 'fibrosis', 'ground_glass', 'healthy', 'micronodules', 'reticulation']\n"
     ]
    }
   ],
   "source": [
    "#define a list of used labels\n",
    "usedclassif = ['consolidation',\n",
    " 'fibrosis',\n",
    " 'ground_glass',\n",
    " 'healthy',\n",
    " 'micronodules',\n",
    " 'reticulation']\n",
    "print (usedclassif)"
   ]
  },
  {
   "cell_type": "code",
   "execution_count": 5,
   "metadata": {
    "collapsed": false
   },
   "outputs": [],
   "source": [
    "#define a dictionary with labels\n",
    "classif={}\n",
    "i=0\n",
    "for f in usedclassif:\n",
    "    classif[f]=i\n",
    "    i+=1"
   ]
  },
  {
   "cell_type": "code",
   "execution_count": 6,
   "metadata": {
    "collapsed": false
   },
   "outputs": [
    {
     "name": "stdout",
     "output_type": "stream",
     "text": [
      "{'micronodules': 4, 'healthy': 3, 'ground_glass': 2, 'consolidation': 0, 'reticulation': 5, 'fibrosis': 1}\n"
     ]
    }
   ],
   "source": [
    "print classif"
   ]
  },
  {
   "cell_type": "code",
   "execution_count": 7,
   "metadata": {
    "collapsed": false
   },
   "outputs": [
    {
     "data": {
      "text/plain": [
       "'C:\\\\Users\\\\sylvain\\\\Documents\\\\boulot\\\\startup\\\\radiology\\\\workarea\\\\trainingarea'"
      ]
     },
     "execution_count": 7,
     "metadata": {},
     "output_type": "execute_result"
    }
   ],
   "source": [
    "# define the current work directory\n",
    "cwd=os.getcwd()\n",
    "cwd"
   ]
  },
  {
   "cell_type": "code",
   "execution_count": 8,
   "metadata": {
    "collapsed": true
   },
   "outputs": [],
   "source": [
    "# create path to patch directory\n",
    "patch_dir = os.path.join(cwd, 'patches')"
   ]
  },
  {
   "cell_type": "code",
   "execution_count": 9,
   "metadata": {
    "collapsed": false
   },
   "outputs": [],
   "source": [
    "# list all directories under patch directory. They are representing the categories\n",
    "category_list = (os.listdir(patch_dir))\n",
    "##print 'taking out the item : ', category_list.pop(0)"
   ]
  },
  {
   "cell_type": "code",
   "execution_count": 10,
   "metadata": {
    "collapsed": false
   },
   "outputs": [
    {
     "data": {
      "text/plain": [
       "['air_trapping',\n",
       " 'bronchial_wall_thickening',\n",
       " 'bronchiectasis',\n",
       " 'consolidation',\n",
       " 'cysts',\n",
       " 'early_fibrosis',\n",
       " 'emphysema',\n",
       " 'fibrosis',\n",
       " 'ground_glass',\n",
       " 'healthy',\n",
       " 'increased_attenuation',\n",
       " 'macronodules',\n",
       " 'micronodules',\n",
       " 'Nouveau document texte.txt',\n",
       " 'pcp',\n",
       " 'peripheral_micronodules',\n",
       " 'reticulation',\n",
       " 'tuberculosis']"
      ]
     },
     "execution_count": 10,
     "metadata": {},
     "output_type": "execute_result"
    }
   ],
   "source": [
    "# print what we have as categories\n",
    "category_list"
   ]
  },
  {
   "cell_type": "code",
   "execution_count": 11,
   "metadata": {
    "collapsed": false
   },
   "outputs": [
    {
     "name": "stdout",
     "output_type": "stream",
     "text": [
      "the path into the categories is:  C:\\Users\\sylvain\\Documents\\boulot\\startup\\radiology\\workarea\\trainingarea\\patches\\consolidation\n",
      "the sub categories are :  ['apical', 'diffuse', 'non-relevant', 'peripheral_sub_pleural']\n",
      "the path into the sub categories is: \n",
      "C:\\Users\\sylvain\\Documents\\boulot\\startup\\radiology\\workarea\\trainingarea\\patches\\consolidation\\apical\n",
      "the path into the sub categories is: \n",
      "C:\\Users\\sylvain\\Documents\\boulot\\startup\\radiology\\workarea\\trainingarea\\patches\\consolidation\\diffuse\n",
      "the path into the sub categories is: \n",
      "C:\\Users\\sylvain\\Documents\\boulot\\startup\\radiology\\workarea\\trainingarea\\patches\\consolidation\\non-relevant\n",
      "the path into the sub categories is: \n",
      "C:\\Users\\sylvain\\Documents\\boulot\\startup\\radiology\\workarea\\trainingarea\\patches\\consolidation\\peripheral_sub_pleural\n",
      "the path into the categories is:  C:\\Users\\sylvain\\Documents\\boulot\\startup\\radiology\\workarea\\trainingarea\\patches\\fibrosis\n",
      "the sub categories are :  ['apical', 'basal', 'diffuse', 'non-relevant', 'perihilar', 'peripheral_sub_pleural']\n",
      "the path into the sub categories is: \n",
      "C:\\Users\\sylvain\\Documents\\boulot\\startup\\radiology\\workarea\\trainingarea\\patches\\fibrosis\\apical\n",
      "the path into the sub categories is: \n",
      "C:\\Users\\sylvain\\Documents\\boulot\\startup\\radiology\\workarea\\trainingarea\\patches\\fibrosis\\basal\n",
      "the path into the sub categories is: \n",
      "C:\\Users\\sylvain\\Documents\\boulot\\startup\\radiology\\workarea\\trainingarea\\patches\\fibrosis\\diffuse\n",
      "the path into the sub categories is: \n",
      "C:\\Users\\sylvain\\Documents\\boulot\\startup\\radiology\\workarea\\trainingarea\\patches\\fibrosis\\non-relevant\n",
      "the path into the sub categories is: \n",
      "C:\\Users\\sylvain\\Documents\\boulot\\startup\\radiology\\workarea\\trainingarea\\patches\\fibrosis\\perihilar\n",
      "the path into the sub categories is: \n",
      "C:\\Users\\sylvain\\Documents\\boulot\\startup\\radiology\\workarea\\trainingarea\\patches\\fibrosis\\peripheral_sub_pleural\n",
      "the path into the categories is:  C:\\Users\\sylvain\\Documents\\boulot\\startup\\radiology\\workarea\\trainingarea\\patches\\ground_glass\n",
      "the sub categories are :  ['apical', 'basal', 'diffuse', 'non-relevant', 'peripheral_sub_pleural']\n",
      "the path into the sub categories is: \n",
      "C:\\Users\\sylvain\\Documents\\boulot\\startup\\radiology\\workarea\\trainingarea\\patches\\ground_glass\\apical\n",
      "the path into the sub categories is: \n",
      "C:\\Users\\sylvain\\Documents\\boulot\\startup\\radiology\\workarea\\trainingarea\\patches\\ground_glass\\basal\n",
      "the path into the sub categories is: \n",
      "C:\\Users\\sylvain\\Documents\\boulot\\startup\\radiology\\workarea\\trainingarea\\patches\\ground_glass\\diffuse\n",
      "the path into the sub categories is: \n",
      "C:\\Users\\sylvain\\Documents\\boulot\\startup\\radiology\\workarea\\trainingarea\\patches\\ground_glass\\non-relevant\n",
      "the path into the sub categories is: \n",
      "C:\\Users\\sylvain\\Documents\\boulot\\startup\\radiology\\workarea\\trainingarea\\patches\\ground_glass\\peripheral_sub_pleural\n",
      "the path into the categories is:  C:\\Users\\sylvain\\Documents\\boulot\\startup\\radiology\\workarea\\trainingarea\\patches\\healthy\n",
      "the sub categories are :  ['apical', 'non-relevant']\n",
      "the path into the sub categories is: \n",
      "C:\\Users\\sylvain\\Documents\\boulot\\startup\\radiology\\workarea\\trainingarea\\patches\\healthy\\apical\n",
      "the path into the sub categories is: \n",
      "C:\\Users\\sylvain\\Documents\\boulot\\startup\\radiology\\workarea\\trainingarea\\patches\\healthy\\non-relevant\n",
      "the path into the categories is:  C:\\Users\\sylvain\\Documents\\boulot\\startup\\radiology\\workarea\\trainingarea\\patches\\micronodules\n",
      "the sub categories are :  ['diffuse', 'non-relevant', 'peripheral_sub_pleural']\n",
      "the path into the sub categories is: \n",
      "C:\\Users\\sylvain\\Documents\\boulot\\startup\\radiology\\workarea\\trainingarea\\patches\\micronodules\\diffuse\n",
      "the path into the sub categories is: \n",
      "C:\\Users\\sylvain\\Documents\\boulot\\startup\\radiology\\workarea\\trainingarea\\patches\\micronodules\\non-relevant\n",
      "the path into the sub categories is: \n",
      "C:\\Users\\sylvain\\Documents\\boulot\\startup\\radiology\\workarea\\trainingarea\\patches\\micronodules\\peripheral_sub_pleural\n",
      "the path into the categories is:  C:\\Users\\sylvain\\Documents\\boulot\\startup\\radiology\\workarea\\trainingarea\\patches\\reticulation\n",
      "the sub categories are :  ['apical', 'basal', 'non-relevant', 'peripheral_sub_pleural']\n",
      "the path into the sub categories is: \n",
      "C:\\Users\\sylvain\\Documents\\boulot\\startup\\radiology\\workarea\\trainingarea\\patches\\reticulation\\apical\n",
      "the path into the sub categories is: \n",
      "C:\\Users\\sylvain\\Documents\\boulot\\startup\\radiology\\workarea\\trainingarea\\patches\\reticulation\\basal\n",
      "the path into the sub categories is: \n",
      "C:\\Users\\sylvain\\Documents\\boulot\\startup\\radiology\\workarea\\trainingarea\\patches\\reticulation\\non-relevant\n",
      "the path into the sub categories is: \n",
      "C:\\Users\\sylvain\\Documents\\boulot\\startup\\radiology\\workarea\\trainingarea\\patches\\reticulation\\peripheral_sub_pleural\n"
     ]
    }
   ],
   "source": [
    "# creating variables\n",
    "# list for the merged pixel data\n",
    "dataset_list = []\n",
    "# list of the label data\n",
    "label_list = []\n",
    "\n",
    "\n",
    "\n",
    "# go through all categories\n",
    "# \n",
    "for category in category_list:\n",
    "    if category in usedclassif:\n",
    "        category_dir = os.path.join(patch_dir, category)\n",
    "        print  'the path into the categories is: ', category_dir\n",
    "\n",
    "        sub_categories_dir_list = (os.listdir(category_dir))\n",
    "        print 'the sub categories are : ', sub_categories_dir_list\n",
    "\n",
    "        for subCategory in sub_categories_dir_list:\n",
    "\n",
    "            subCategory_dir = os.path.join(category_dir, subCategory)\n",
    "            print  'the path into the sub categories is: '\n",
    "            print subCategory_dir\n",
    "\n",
    "            image_files = (os.listdir(subCategory_dir))\n",
    "\n",
    "            for file in image_files:\n",
    "\n",
    "                if file.find('.bmp') > 0:\n",
    "\n",
    "                    # load the .bmp file into array       \n",
    "                    image = misc.imread(os.path.join(subCategory_dir,file), flatten= 0)\n",
    "                    # append the array to the dataset list\n",
    "                    dataset_list.append(image)\n",
    "\n",
    "                    # created rotated copies of images\n",
    "                    image90 = np.rot90(image)\n",
    "                    dataset_list.append(image90)\n",
    "\n",
    "                    image180 = np.rot90(image90)\n",
    "                    dataset_list.append(image180)\n",
    "\n",
    "                    image270 = np.rot90(image180)\n",
    "                    dataset_list.append(image270)\n",
    "\n",
    "                    # append  lables \n",
    "                    label_list.append(classif[category])\n",
    "                    # append also lables for rotated images\n",
    "                    label_list.append(classif[category])\n",
    "                    label_list.append(classif[category])\n",
    "                    label_list.append(classif[category])\n",
    "\n",
    "\n",
    "            "
   ]
  },
  {
   "cell_type": "code",
   "execution_count": 12,
   "metadata": {
    "collapsed": false
   },
   "outputs": [
    {
     "name": "stdout",
     "output_type": "stream",
     "text": [
      "(25572, 25572)\n"
     ]
    }
   ],
   "source": [
    "print (len(dataset_list),len(label_list))\n",
    "\n"
   ]
  },
  {
   "cell_type": "code",
   "execution_count": 13,
   "metadata": {
    "collapsed": false
   },
   "outputs": [
    {
     "name": "stdout",
     "output_type": "stream",
     "text": [
      "dataset shape is now:  (25000L, 32L, 32L)\n"
     ]
    }
   ],
   "source": [
    "nb_elem = 25000 \n",
    "indices = []  \n",
    "resultatx=[]\n",
    "resultaty= [] \n",
    "while nb_elem > 0:  \n",
    "    i = random.randint(0, len(dataset_list) -1)  \n",
    "    while i in indices: # tant que le tirage redonne un nombre déjà choisi  \n",
    "        i = random.randint(0, len(dataset_list) -1)  \n",
    "    indices.append(i)  \n",
    "    nb_elem = nb_elem - 1  \n",
    "\n",
    "for index in indices:  \n",
    "    resultatx.append(dataset_list[index])  \n",
    "    resultaty.append(label_list[index]) \n",
    "\n",
    "# transform dataset list into numpy array                   \n",
    "dataset = np.array(resultatx)\n",
    "\n",
    "# use only one of the 3 color channels as greyscale info\n",
    "X = dataset[:,:, :,1]\n",
    "\n",
    "print 'dataset shape is now: ', X.shape\n",
    "\n",
    "# \n",
    "y = np.array(resultaty)\n",
    "# sampling item 22\n",
    "#y[22]\n"
   ]
  },
  {
   "cell_type": "code",
   "execution_count": 14,
   "metadata": {
    "collapsed": false
   },
   "outputs": [
    {
     "name": "stdout",
     "output_type": "stream",
     "text": [
      "(25572, 25572)\n",
      "(25000, 25000)\n"
     ]
    }
   ],
   "source": [
    "print (len(dataset_list),len(label_list))\n",
    "print (len(resultatx),len(resultaty))"
   ]
  },
  {
   "cell_type": "code",
   "execution_count": 15,
   "metadata": {
    "collapsed": false
   },
   "outputs": [
    {
     "name": "stdout",
     "output_type": "stream",
     "text": [
      "(25000L, 32L, 32L)\n",
      "(25000L,)\n"
     ]
    }
   ],
   "source": [
    "print X.shape\n",
    "print y.shape"
   ]
  },
  {
   "cell_type": "code",
   "execution_count": 16,
   "metadata": {
    "collapsed": false
   },
   "outputs": [
    {
     "name": "stdout",
     "output_type": "stream",
     "text": [
      "(12500L, 32L, 32L)\n",
      "(6250L, 32L, 32L)\n",
      "(6250L, 32L, 32L)\n",
      "(12500L,)\n",
      "(6250L,)\n",
      "(6250L,)\n"
     ]
    }
   ],
   "source": [
    "X_train, X_intermediate, y_train, y_intermediate = train_test_split(X, y, test_size=0.5, random_state=42)\n",
    "X_val, X_test, y_val, y_test = train_test_split(X_intermediate, y_intermediate, test_size=0.5, random_state=42)\n",
    "print X_train.shape\n",
    "print X_val.shape\n",
    "print X_test.shape\n",
    "print y_train.shape\n",
    "print y_test.shape\n",
    "print y_val.shape\n",
    "    "
   ]
  },
  {
   "cell_type": "code",
   "execution_count": 17,
   "metadata": {
    "collapsed": true
   },
   "outputs": [],
   "source": [
    "# save the dataset and label set into serial formatted pkl \n",
    "\n",
    "pickle.dump(X_train, open( \"X_train.pkl\", \"wb\" ))\n",
    "pickle.dump(X_test, open( \"X_test.pkl\", \"wb\" ))\n",
    "pickle.dump(X_val, open( \"X_val.pkl\", \"wb\" ))\n",
    "pickle.dump(y_train, open( \"y_train.pkl\", \"wb\" ))\n",
    "pickle.dump(y_test, open( \"y_test.pkl\", \"wb\" ))\n",
    "pickle.dump(y_val, open( \"y_val.pkl\", \"wb\" ))"
   ]
  },
  {
   "cell_type": "code",
   "execution_count": 18,
   "metadata": {
    "collapsed": true
   },
   "outputs": [],
   "source": [
    "# testing if pickls was working fine\n",
    "recuperated_X_train = pickle.load( open( \"X_train.pkl\", \"rb\" ) )"
   ]
  },
  {
   "cell_type": "code",
   "execution_count": 113,
   "metadata": {
    "collapsed": false
   },
   "outputs": [
    {
     "data": {
      "text/plain": [
       "array([[[ 38,   7,   2, ...,  49,  44,  66],\n",
       "        [  1,  25,  19, ...,  38,  16,   0],\n",
       "        [  0,  14,  34, ...,  80,  57,  10],\n",
       "        ..., \n",
       "        [ 47,  22,  48, ...,  26,  32,  23],\n",
       "        [ 44,   7,  12, ...,  43,  30,   6],\n",
       "        [ 28,  20,  14, ...,  46,  25,  44]],\n",
       "\n",
       "       [[  0,   0,   0, ...,   0,   0,   0],\n",
       "        [  0,   0,   0, ...,   0,   0,   0],\n",
       "        [  0,   0,   0, ...,   0,   0,   0],\n",
       "        ..., \n",
       "        [  0,   0,   0, ...,   0,   0,   0],\n",
       "        [  0,   0,   0, ...,   0,   0,   0],\n",
       "        [  0,   0,   0, ...,   0,   0,   0]],\n",
       "\n",
       "       [[  0,   0,   0, ...,   0,   0,   0],\n",
       "        [  0,   0,   0, ...,   0,   0,   0],\n",
       "        [  0,   0,   0, ...,   0,   0,   0],\n",
       "        ..., \n",
       "        [  0,   0,   0, ...,   0,   0,   0],\n",
       "        [  0,   0,   0, ...,   0,   0,   0],\n",
       "        [  0,   0,   0, ...,   0,   0,   0]],\n",
       "\n",
       "       ..., \n",
       "       [[  0,   0,   0, ...,   0,   0,   0],\n",
       "        [  0,   0,   0, ...,   0,   0,   0],\n",
       "        [  0,   0,   0, ...,   0,   0,   0],\n",
       "        ..., \n",
       "        [  0,   0,   0, ...,   0,   0,   0],\n",
       "        [  0,   0,   0, ...,   0,   0,   0],\n",
       "        [  0,   0,   0, ...,   0,   0,   0]],\n",
       "\n",
       "       [[ 53,  42,  49, ...,  42,  28,  37],\n",
       "        [ 58,  46,  42, ...,  43,  31,  42],\n",
       "        [ 47,  51,  52, ...,  30,  41,  81],\n",
       "        ..., \n",
       "        [ 84,  50,  24, ...,  24,  40,  36],\n",
       "        [ 47,  32,  29, ...,  46,  33,  30],\n",
       "        [ 45,  40,  35, ...,  35,  30,  12]],\n",
       "\n",
       "       [[ 20,  56, 104, ...,  10,  31,  43],\n",
       "        [ 26,  59, 137, ...,   2,   6,  21],\n",
       "        [  6,  32, 110, ...,  21,  23,  29],\n",
       "        ..., \n",
       "        [  9,  17,  37, ...,  12,  41,  65],\n",
       "        [ 13,   3,  29, ...,  38,  43,  30],\n",
       "        [ 24,  13,  40, ...,  25,  48,   8]]], dtype=uint8)"
      ]
     },
     "execution_count": 113,
     "metadata": {},
     "output_type": "execute_result"
    }
   ],
   "source": [
    "recuperated_X_train"
   ]
  },
  {
   "cell_type": "code",
   "execution_count": null,
   "metadata": {
    "collapsed": true
   },
   "outputs": [],
   "source": []
  },
  {
   "cell_type": "code",
   "execution_count": null,
   "metadata": {
    "collapsed": true
   },
   "outputs": [],
   "source": []
  }
 ],
 "metadata": {
  "kernelspec": {
   "display_name": "Python 2",
   "language": "python",
   "name": "python2"
  },
  "language_info": {
   "codemirror_mode": {
    "name": "ipython",
    "version": 2
   },
   "file_extension": ".py",
   "mimetype": "text/x-python",
   "name": "python",
   "nbconvert_exporter": "python",
   "pygments_lexer": "ipython2",
   "version": "2.7.11"
  }
 },
 "nbformat": 4,
 "nbformat_minor": 0
}
